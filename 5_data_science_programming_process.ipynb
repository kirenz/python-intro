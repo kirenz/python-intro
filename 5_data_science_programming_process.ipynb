{
 "cells": [
  {
   "cell_type": "markdown",
   "metadata": {},
   "source": [
    "**Introduction to Data Science with Python**<br/>\n",
    "Prof. Dr. Jan Kirenz <br/>\n",
    "Hochschule der Medien Stuttgart"
   ]
  },
  {
   "cell_type": "code",
   "execution_count": 1,
   "metadata": {},
   "outputs": [],
   "source": [
    "import numpy as np\n",
    "import pandas as pd\n",
    "from pandas.api.types import CategoricalDtype\n",
    "import matplotlib.pyplot as plt\n",
    "%matplotlib inline \n",
    "plt.style.use('ggplot') # define plot style \n",
    "import seaborn as sns  \n",
    "sns.set() # seaborne standard settings\n",
    "from IPython.display import Image # display image in the frontend"
   ]
  },
  {
   "cell_type": "markdown",
   "metadata": {},
   "source": [
    "**Module overview**:\n",
    "  * **NumPy** provides efficient storage and computation for multidimensional data arrays. \n",
    "  * **Pandas** provides a DataFrame object along with a powerful set of methods to manipulate, filter, group, and transform data.\n",
    "statistical models, as well as for conducting statistical tests, and statistical data exploration. Furthermore, you can use R-style formulas together with pandas data frames to fit your models.\n",
    "  * **Matplotlib** provides a useful interface for creation of publication-quality plots and figures. \n",
    "  * **Seaborn** is a Python data visualization library based on matplotlib. It provides a high-level interface for drawing attractive and informative statistical graphics."
   ]
  },
  {
   "cell_type": "markdown",
   "metadata": {
    "toc": true
   },
   "source": [
    "<h1>Table of Contents<span class=\"tocSkip\"></span></h1>\n",
    "<div class=\"toc\"><ul class=\"toc-item\"><li><span><a href=\"#Programming-Process\" data-toc-modified-id=\"Programming-Process-1\"><span class=\"toc-item-num\">1&nbsp;&nbsp;</span>Programming Process</a></span><ul class=\"toc-item\"><li><span><a href=\"#Import-data\" data-toc-modified-id=\"Import-data-1.1\"><span class=\"toc-item-num\">1.1&nbsp;&nbsp;</span>Import data</a></span></li><li><span><a href=\"#Tidying-data\" data-toc-modified-id=\"Tidying-data-1.2\"><span class=\"toc-item-num\">1.2&nbsp;&nbsp;</span>Tidying data</a></span></li><li><span><a href=\"#Transform-data\" data-toc-modified-id=\"Transform-data-1.3\"><span class=\"toc-item-num\">1.3&nbsp;&nbsp;</span>Transform data</a></span></li><li><span><a href=\"#Visualize-data\" data-toc-modified-id=\"Visualize-data-1.4\"><span class=\"toc-item-num\">1.4&nbsp;&nbsp;</span>Visualize data</a></span></li><li><span><a href=\"#Models\" data-toc-modified-id=\"Models-1.5\"><span class=\"toc-item-num\">1.5&nbsp;&nbsp;</span>Models</a></span></li><li><span><a href=\"#Communication\" data-toc-modified-id=\"Communication-1.6\"><span class=\"toc-item-num\">1.6&nbsp;&nbsp;</span>Communication</a></span></li></ul></li><li><span><a href=\"#Import-data\" data-toc-modified-id=\"Import-data-2\"><span class=\"toc-item-num\">2&nbsp;&nbsp;</span>Import data</a></span></li><li><span><a href=\"#Tidying-data\" data-toc-modified-id=\"Tidying-data-3\"><span class=\"toc-item-num\">3&nbsp;&nbsp;</span>Tidying data</a></span><ul class=\"toc-item\"><li><span><a href=\"#Data-inspection\" data-toc-modified-id=\"Data-inspection-3.1\"><span class=\"toc-item-num\">3.1&nbsp;&nbsp;</span>Data inspection</a></span></li><li><span><a href=\"#Handle-missing-values\" data-toc-modified-id=\"Handle-missing-values-3.2\"><span class=\"toc-item-num\">3.2&nbsp;&nbsp;</span>Handle missing values</a></span></li></ul></li><li><span><a href=\"#Transform-data\" data-toc-modified-id=\"Transform-data-4\"><span class=\"toc-item-num\">4&nbsp;&nbsp;</span>Transform data</a></span><ul class=\"toc-item\"><li><span><a href=\"#Descriptive-statistics\" data-toc-modified-id=\"Descriptive-statistics-4.1\"><span class=\"toc-item-num\">4.1&nbsp;&nbsp;</span>Descriptive statistics</a></span><ul class=\"toc-item\"><li><span><a href=\"#Measures-of-central-tendency\" data-toc-modified-id=\"Measures-of-central-tendency-4.1.1\"><span class=\"toc-item-num\">4.1.1&nbsp;&nbsp;</span>Measures of central tendency</a></span></li><li><span><a href=\"#Measures-of-dispersion\" data-toc-modified-id=\"Measures-of-dispersion-4.1.2\"><span class=\"toc-item-num\">4.1.2&nbsp;&nbsp;</span>Measures of dispersion</a></span></li><li><span><a href=\"#Summary-statistics\" data-toc-modified-id=\"Summary-statistics-4.1.3\"><span class=\"toc-item-num\">4.1.3&nbsp;&nbsp;</span>Summary statistics</a></span></li></ul></li></ul></li><li><span><a href=\"#Visualize-data\" data-toc-modified-id=\"Visualize-data-5\"><span class=\"toc-item-num\">5&nbsp;&nbsp;</span>Visualize data</a></span><ul class=\"toc-item\"><li><span><a href=\"#Distibution-of-Variables\" data-toc-modified-id=\"Distibution-of-Variables-5.1\"><span class=\"toc-item-num\">5.1&nbsp;&nbsp;</span>Distibution of Variables</a></span></li><li><span><a href=\"#Relationship-between-variables\" data-toc-modified-id=\"Relationship-between-variables-5.2\"><span class=\"toc-item-num\">5.2&nbsp;&nbsp;</span>Relationship between variables</a></span></li></ul></li><li><span><a href=\"#Model\" data-toc-modified-id=\"Model-6\"><span class=\"toc-item-num\">6&nbsp;&nbsp;</span>Model</a></span></li></ul></div>"
   ]
  },
  {
   "cell_type": "markdown",
   "metadata": {},
   "source": [
    "# Data Science Programming Process\n",
    "\n",
    "The goal of this application is to give you a first impression of the most important steps and tools in Python when you perform a data science project. \n",
    "\n",
    "To demonstrate the programming process, we examine a data set which contains factors that could relate to **wages** for a group of males from the Atlantic region of the United States. The data set is obtained from James et al (2013) and consists of 12 variables for 3,000 people, so we have n = 3,000 observations and p = 12 variables (such as year, age, and more).\n",
    "  \n",
    "Tasks:\n",
    "  \n",
    "  1. Review and load the Python modules to start your first data analysis. \n",
    "  2. Get familiar with the programming process. \n",
    "  3. Change the code in chapter 1 and import your data.\n",
    "  4. Execute the code blocks in the notebook (chapter 2). \n",
    "  5. Perform the data transformation steps (chapter 3) and visualizations (chapter 4) for variable \"age\" and use it as a template for the variables \"wage\" and \"year\" (copy the code examples and compute the statistics for wage and year). In particular, check for possible relationships between the variables (chapter 4.2) \n",
    "\n",
    "---\n",
    "\n",
    "*Sources*\n",
    "\n",
    "[*James, G., Witten, D., Hastie, T., & Tibshirani, R. (2013). An introduction to statistical learning. New York: Springer.*](https://r4ds.had.co.nz/index.html)\n",
    "\n",
    "[*Wickham, H., & Grolemund, G. (2016). R for data science: import, tidy, transform, visualize, and model data. O'Reilly Media, Inc.*](http://www-bcf.usc.edu/~gareth/ISL/)\n",
    "\n",
    "---"
   ]
  },
  {
   "cell_type": "markdown",
   "metadata": {},
   "source": [
    "## Programming Process"
   ]
  },
  {
   "cell_type": "markdown",
   "metadata": {},
   "source": [
    "Our model of the tools needed in a typical data science project looks something like this (Wickham/Grolemund, 2016):"
   ]
  },
  {
   "cell_type": "markdown",
   "metadata": {},
   "source": [
    "![title](https://d33wubrfki0l68.cloudfront.net/571b056757d68e6df81a3e3853f54d3c76ad6efc/32d37/diagrams/data-science.png)\n"
   ]
  },
  {
   "cell_type": "markdown",
   "metadata": {},
   "source": [
    "### Import data\n",
    "First you must **import** your data into Python. This typically means that you take data stored in a file, database, or web API, and load it into a DataFrame in Python (using pandas). \n",
    "\n",
    "### Tidying data\n",
    "Once you’ve imported your data, it is a good idea to tidy it. **Tidying** your data means storing it in a consistent form that matches the semantics of the dataset with the way it is stored. In brief, when your data is tidy, each column is a variable, and each row is an observation. Tidy data is important because the consistent structure lets you focus your struggle on questions about the data.\n",
    "\n",
    "### Transform data\n",
    "Once you have tidy data, a common first step is to transform it. **Transformation** includes narrowing in on observations of interest (like all people in one city, or all data from the last year), creating new variables that are functions of existing variables (like computing velocity from speed and time), and calculating a set of summary statistics (like counts or means). Together, tidying and transforming are called wrangling, because getting your data in a form that’s natural to work with often feels like a fight!\n",
    "\n",
    "### Visualize data\n",
    "Once you have tidy data with the variables you need, there are two main engines of knowledge generation: visualisation and modelling. These have complementary strengths and weaknesses so any real analysis will iterate between them many times.\n",
    "\n",
    "**Visualisation** is a fundamentally human activity. A good visualisation will show you things that you did not expect, or raise new questions about the data. A good visualisation might also hint that you’re asking the wrong question, or you need to collect different data. Visualisations can surprise you, but don’t scale particularly well because they require a human to interpret them.\n",
    "\n",
    "### Models\n",
    "**Models** are complementary tools to visualisation. Once you have made your questions sufficiently precise, you can use a model to answer them. Models are a fundamentally mathematical or computational tool, so they generally scale well. But every model makes assumptions, and by its very nature a model cannot question its own assumptions. That means a model cannot fundamentally surprise you.\n",
    "\n",
    "### Communication\n",
    "The last step is **communication**, an absolutely critical part of any data analysis project. It doesn’t matter how well your models and visualisation have led you to understand the data unless you can also communicate your results to others.\n",
    "\n",
    "Surrounding all these tools is **programming**. Programming is a cross-cutting tool that you use in every part of the project. You don’t need to be an expert programmer to be a data scientist, but learning more about programming pays off because becoming a better programmer allows you to automate common tasks, and solve new problems with greater ease.\n",
    "\n",
    "Source: Wickham & Grolemund, 2016\n",
    "\n",
    "---"
   ]
  },
  {
   "cell_type": "markdown",
   "metadata": {},
   "source": [
    "## Import data"
   ]
  },
  {
   "cell_type": "code",
   "execution_count": 2,
   "metadata": {
    "scrolled": true
   },
   "outputs": [],
   "source": [
    "df = pd.read_csv('https://raw.githubusercontent.com/kirenz/datasets/master/wage.csv')"
   ]
  },
  {
   "cell_type": "code",
   "execution_count": 3,
   "metadata": {},
   "outputs": [
    {
     "data": {
      "text/html": [
       "<div>\n",
       "<style scoped>\n",
       "    .dataframe tbody tr th:only-of-type {\n",
       "        vertical-align: middle;\n",
       "    }\n",
       "\n",
       "    .dataframe tbody tr th {\n",
       "        vertical-align: top;\n",
       "    }\n",
       "\n",
       "    .dataframe thead th {\n",
       "        text-align: right;\n",
       "    }\n",
       "</style>\n",
       "<table border=\"1\" class=\"dataframe\">\n",
       "  <thead>\n",
       "    <tr style=\"text-align: right;\">\n",
       "      <th></th>\n",
       "      <th>Unnamed: 0</th>\n",
       "      <th>year</th>\n",
       "      <th>age</th>\n",
       "      <th>maritl</th>\n",
       "      <th>race</th>\n",
       "      <th>education</th>\n",
       "      <th>region</th>\n",
       "      <th>jobclass</th>\n",
       "      <th>health</th>\n",
       "      <th>health_ins</th>\n",
       "      <th>logwage</th>\n",
       "      <th>wage</th>\n",
       "    </tr>\n",
       "  </thead>\n",
       "  <tbody>\n",
       "    <tr>\n",
       "      <th>0</th>\n",
       "      <td>231655</td>\n",
       "      <td>2006</td>\n",
       "      <td>18</td>\n",
       "      <td>1. Never Married</td>\n",
       "      <td>1. White</td>\n",
       "      <td>1. &lt; HS Grad</td>\n",
       "      <td>2. Middle Atlantic</td>\n",
       "      <td>1. Industrial</td>\n",
       "      <td>1. &lt;=Good</td>\n",
       "      <td>2. No</td>\n",
       "      <td>4.318063</td>\n",
       "      <td>75.043154</td>\n",
       "    </tr>\n",
       "    <tr>\n",
       "      <th>1</th>\n",
       "      <td>86582</td>\n",
       "      <td>2004</td>\n",
       "      <td>24</td>\n",
       "      <td>1. Never Married</td>\n",
       "      <td>1. White</td>\n",
       "      <td>4. College Grad</td>\n",
       "      <td>2. Middle Atlantic</td>\n",
       "      <td>2. Information</td>\n",
       "      <td>2. &gt;=Very Good</td>\n",
       "      <td>2. No</td>\n",
       "      <td>4.255273</td>\n",
       "      <td>70.476020</td>\n",
       "    </tr>\n",
       "    <tr>\n",
       "      <th>2</th>\n",
       "      <td>161300</td>\n",
       "      <td>2003</td>\n",
       "      <td>45</td>\n",
       "      <td>2. Married</td>\n",
       "      <td>1. White</td>\n",
       "      <td>3. Some College</td>\n",
       "      <td>2. Middle Atlantic</td>\n",
       "      <td>1. Industrial</td>\n",
       "      <td>1. &lt;=Good</td>\n",
       "      <td>1. Yes</td>\n",
       "      <td>4.875061</td>\n",
       "      <td>130.982177</td>\n",
       "    </tr>\n",
       "    <tr>\n",
       "      <th>3</th>\n",
       "      <td>155159</td>\n",
       "      <td>2003</td>\n",
       "      <td>43</td>\n",
       "      <td>2. Married</td>\n",
       "      <td>3. Asian</td>\n",
       "      <td>4. College Grad</td>\n",
       "      <td>2. Middle Atlantic</td>\n",
       "      <td>2. Information</td>\n",
       "      <td>2. &gt;=Very Good</td>\n",
       "      <td>1. Yes</td>\n",
       "      <td>5.041393</td>\n",
       "      <td>154.685293</td>\n",
       "    </tr>\n",
       "    <tr>\n",
       "      <th>4</th>\n",
       "      <td>11443</td>\n",
       "      <td>2005</td>\n",
       "      <td>50</td>\n",
       "      <td>4. Divorced</td>\n",
       "      <td>1. White</td>\n",
       "      <td>2. HS Grad</td>\n",
       "      <td>2. Middle Atlantic</td>\n",
       "      <td>2. Information</td>\n",
       "      <td>1. &lt;=Good</td>\n",
       "      <td>1. Yes</td>\n",
       "      <td>4.318063</td>\n",
       "      <td>75.043154</td>\n",
       "    </tr>\n",
       "  </tbody>\n",
       "</table>\n",
       "</div>"
      ],
      "text/plain": [
       "   Unnamed: 0  year  age            maritl      race        education  \\\n",
       "0      231655  2006   18  1. Never Married  1. White     1. < HS Grad   \n",
       "1       86582  2004   24  1. Never Married  1. White  4. College Grad   \n",
       "2      161300  2003   45        2. Married  1. White  3. Some College   \n",
       "3      155159  2003   43        2. Married  3. Asian  4. College Grad   \n",
       "4       11443  2005   50       4. Divorced  1. White       2. HS Grad   \n",
       "\n",
       "               region        jobclass          health health_ins   logwage  \\\n",
       "0  2. Middle Atlantic   1. Industrial       1. <=Good      2. No  4.318063   \n",
       "1  2. Middle Atlantic  2. Information  2. >=Very Good      2. No  4.255273   \n",
       "2  2. Middle Atlantic   1. Industrial       1. <=Good     1. Yes  4.875061   \n",
       "3  2. Middle Atlantic  2. Information  2. >=Very Good     1. Yes  5.041393   \n",
       "4  2. Middle Atlantic  2. Information       1. <=Good     1. Yes  4.318063   \n",
       "\n",
       "         wage  \n",
       "0   75.043154  \n",
       "1   70.476020  \n",
       "2  130.982177  \n",
       "3  154.685293  \n",
       "4   75.043154  "
      ]
     },
     "execution_count": 3,
     "metadata": {},
     "output_type": "execute_result"
    }
   ],
   "source": [
    "df.head(5)"
   ]
  },
  {
   "cell_type": "code",
   "execution_count": 4,
   "metadata": {},
   "outputs": [
    {
     "name": "stdout",
     "output_type": "stream",
     "text": [
      "<class 'pandas.core.frame.DataFrame'>\n",
      "RangeIndex: 3000 entries, 0 to 2999\n",
      "Data columns (total 12 columns):\n",
      "Unnamed: 0    3000 non-null int64\n",
      "year          3000 non-null int64\n",
      "age           3000 non-null int64\n",
      "maritl        3000 non-null object\n",
      "race          3000 non-null object\n",
      "education     3000 non-null object\n",
      "region        3000 non-null object\n",
      "jobclass      3000 non-null object\n",
      "health        3000 non-null object\n",
      "health_ins    3000 non-null object\n",
      "logwage       3000 non-null float64\n",
      "wage          3000 non-null float64\n",
      "dtypes: float64(2), int64(3), object(7)\n",
      "memory usage: 281.3+ KB\n"
     ]
    }
   ],
   "source": [
    "df.info()"
   ]
  },
  {
   "cell_type": "markdown",
   "metadata": {},
   "source": [
    "## Tidying data"
   ]
  },
  {
   "cell_type": "markdown",
   "metadata": {},
   "source": [
    "### Data inspection"
   ]
  },
  {
   "cell_type": "markdown",
   "metadata": {},
   "source": [
    "First of all, let's take a look at the variables (columns) in the data set."
   ]
  },
  {
   "cell_type": "code",
   "execution_count": 5,
   "metadata": {},
   "outputs": [
    {
     "data": {
      "text/plain": [
       "Index(['Unnamed: 0', 'year', 'age', 'maritl', 'race', 'education', 'region',\n",
       "       'jobclass', 'health', 'health_ins', 'logwage', 'wage'],\n",
       "      dtype='object')"
      ]
     },
     "execution_count": 5,
     "metadata": {},
     "output_type": "execute_result"
    }
   ],
   "source": [
    "# show all variables in the data set\n",
    "df.columns"
   ]
  },
  {
   "cell_type": "code",
   "execution_count": 6,
   "metadata": {
    "scrolled": true
   },
   "outputs": [
    {
     "data": {
      "text/html": [
       "<div>\n",
       "<style scoped>\n",
       "    .dataframe tbody tr th:only-of-type {\n",
       "        vertical-align: middle;\n",
       "    }\n",
       "\n",
       "    .dataframe tbody tr th {\n",
       "        vertical-align: top;\n",
       "    }\n",
       "\n",
       "    .dataframe thead th {\n",
       "        text-align: right;\n",
       "    }\n",
       "</style>\n",
       "<table border=\"1\" class=\"dataframe\">\n",
       "  <thead>\n",
       "    <tr style=\"text-align: right;\">\n",
       "      <th></th>\n",
       "      <th>Unnamed: 0</th>\n",
       "      <th>year</th>\n",
       "      <th>age</th>\n",
       "      <th>maritl</th>\n",
       "      <th>race</th>\n",
       "      <th>education</th>\n",
       "      <th>region</th>\n",
       "      <th>jobclass</th>\n",
       "      <th>health</th>\n",
       "      <th>health_ins</th>\n",
       "      <th>logwage</th>\n",
       "      <th>wage</th>\n",
       "    </tr>\n",
       "  </thead>\n",
       "  <tbody>\n",
       "    <tr>\n",
       "      <th>0</th>\n",
       "      <td>231655</td>\n",
       "      <td>2006</td>\n",
       "      <td>18</td>\n",
       "      <td>1. Never Married</td>\n",
       "      <td>1. White</td>\n",
       "      <td>1. &lt; HS Grad</td>\n",
       "      <td>2. Middle Atlantic</td>\n",
       "      <td>1. Industrial</td>\n",
       "      <td>1. &lt;=Good</td>\n",
       "      <td>2. No</td>\n",
       "      <td>4.318063</td>\n",
       "      <td>75.043154</td>\n",
       "    </tr>\n",
       "    <tr>\n",
       "      <th>1</th>\n",
       "      <td>86582</td>\n",
       "      <td>2004</td>\n",
       "      <td>24</td>\n",
       "      <td>1. Never Married</td>\n",
       "      <td>1. White</td>\n",
       "      <td>4. College Grad</td>\n",
       "      <td>2. Middle Atlantic</td>\n",
       "      <td>2. Information</td>\n",
       "      <td>2. &gt;=Very Good</td>\n",
       "      <td>2. No</td>\n",
       "      <td>4.255273</td>\n",
       "      <td>70.476020</td>\n",
       "    </tr>\n",
       "    <tr>\n",
       "      <th>2</th>\n",
       "      <td>161300</td>\n",
       "      <td>2003</td>\n",
       "      <td>45</td>\n",
       "      <td>2. Married</td>\n",
       "      <td>1. White</td>\n",
       "      <td>3. Some College</td>\n",
       "      <td>2. Middle Atlantic</td>\n",
       "      <td>1. Industrial</td>\n",
       "      <td>1. &lt;=Good</td>\n",
       "      <td>1. Yes</td>\n",
       "      <td>4.875061</td>\n",
       "      <td>130.982177</td>\n",
       "    </tr>\n",
       "    <tr>\n",
       "      <th>3</th>\n",
       "      <td>155159</td>\n",
       "      <td>2003</td>\n",
       "      <td>43</td>\n",
       "      <td>2. Married</td>\n",
       "      <td>3. Asian</td>\n",
       "      <td>4. College Grad</td>\n",
       "      <td>2. Middle Atlantic</td>\n",
       "      <td>2. Information</td>\n",
       "      <td>2. &gt;=Very Good</td>\n",
       "      <td>1. Yes</td>\n",
       "      <td>5.041393</td>\n",
       "      <td>154.685293</td>\n",
       "    </tr>\n",
       "    <tr>\n",
       "      <th>4</th>\n",
       "      <td>11443</td>\n",
       "      <td>2005</td>\n",
       "      <td>50</td>\n",
       "      <td>4. Divorced</td>\n",
       "      <td>1. White</td>\n",
       "      <td>2. HS Grad</td>\n",
       "      <td>2. Middle Atlantic</td>\n",
       "      <td>2. Information</td>\n",
       "      <td>1. &lt;=Good</td>\n",
       "      <td>1. Yes</td>\n",
       "      <td>4.318063</td>\n",
       "      <td>75.043154</td>\n",
       "    </tr>\n",
       "  </tbody>\n",
       "</table>\n",
       "</div>"
      ],
      "text/plain": [
       "   Unnamed: 0  year  age            maritl      race        education  \\\n",
       "0      231655  2006   18  1. Never Married  1. White     1. < HS Grad   \n",
       "1       86582  2004   24  1. Never Married  1. White  4. College Grad   \n",
       "2      161300  2003   45        2. Married  1. White  3. Some College   \n",
       "3      155159  2003   43        2. Married  3. Asian  4. College Grad   \n",
       "4       11443  2005   50       4. Divorced  1. White       2. HS Grad   \n",
       "\n",
       "               region        jobclass          health health_ins   logwage  \\\n",
       "0  2. Middle Atlantic   1. Industrial       1. <=Good      2. No  4.318063   \n",
       "1  2. Middle Atlantic  2. Information  2. >=Very Good      2. No  4.255273   \n",
       "2  2. Middle Atlantic   1. Industrial       1. <=Good     1. Yes  4.875061   \n",
       "3  2. Middle Atlantic  2. Information  2. >=Very Good     1. Yes  5.041393   \n",
       "4  2. Middle Atlantic  2. Information       1. <=Good     1. Yes  4.318063   \n",
       "\n",
       "         wage  \n",
       "0   75.043154  \n",
       "1   70.476020  \n",
       "2  130.982177  \n",
       "3  154.685293  \n",
       "4   75.043154  "
      ]
     },
     "execution_count": 6,
     "metadata": {},
     "output_type": "execute_result"
    }
   ],
   "source": [
    "# show the first 5 rows (i.e. head of the DataFrame)\n",
    "df.head(5)"
   ]
  },
  {
   "cell_type": "markdown",
   "metadata": {},
   "source": [
    "The variable \"Unnamed: 0\" seems to be some kind of identification number per employee. Let's rename the variable and check wether we have duplictes in our dataset."
   ]
  },
  {
   "cell_type": "code",
   "execution_count": 7,
   "metadata": {},
   "outputs": [],
   "source": [
    "# rename variable \"Unnamed: 0\"\n",
    "df = df.rename(index=str, columns={\"Unnamed: 0\": \"id\"})"
   ]
  },
  {
   "cell_type": "markdown",
   "metadata": {},
   "source": [
    "In Jupyter, we have several options to present output. One way is to just run a cod block which produces only one output:"
   ]
  },
  {
   "cell_type": "code",
   "execution_count": 8,
   "metadata": {},
   "outputs": [
    {
     "data": {
      "text/plain": [
       "3000"
      ]
     },
     "execution_count": 8,
     "metadata": {},
     "output_type": "execute_result"
    }
   ],
   "source": [
    "# show the lenght of the variable id (i.e. the number of observations)\n",
    "len(df[\"id\"])"
   ]
  },
  {
   "cell_type": "markdown",
   "metadata": {},
   "source": [
    "If we need to present multiple outputs or add some text, we can use the print() function. See the [Python documentation](https://docs.python.org/3/tutorial/inputoutput.html) for the different print() options. "
   ]
  },
  {
   "cell_type": "code",
   "execution_count": 9,
   "metadata": {},
   "outputs": [
    {
     "name": "stdout",
     "output_type": "stream",
     "text": [
      "IDs: 3000\n",
      "Unique IDs: 3000\n"
     ]
    }
   ],
   "source": [
    "# check for duplicates and print results (if the two numbers match, we have no duplicates)\n",
    "# show the lenght of the variable id (i.e. the number of observations)\n",
    "print(f'IDs: {len(df[\"id\"])}')\n",
    "# count the number of individual id's\n",
    "print(f'Unique IDs: {len(df[\"id\"].value_counts())}')"
   ]
  },
  {
   "cell_type": "markdown",
   "metadata": {},
   "source": [
    "Since we already decided to only use a specific set of variables (wage, year, age and education), we can select them and drop the other variables. The variable selection process should be based on solid theories and other insights. We also keep the id-Variable to identify the observations and to be able to merge the data with one of the dropped variables if neccessary. "
   ]
  },
  {
   "cell_type": "code",
   "execution_count": 10,
   "metadata": {},
   "outputs": [],
   "source": [
    "# select variables\n",
    "df = df[['id','year', 'age', 'education', 'wage']]"
   ]
  },
  {
   "cell_type": "code",
   "execution_count": 11,
   "metadata": {
    "scrolled": true
   },
   "outputs": [
    {
     "name": "stdout",
     "output_type": "stream",
     "text": [
      "<class 'pandas.core.frame.DataFrame'>\n",
      "Index: 3000 entries, 0 to 2999\n",
      "Data columns (total 5 columns):\n",
      "id           3000 non-null int64\n",
      "year         3000 non-null int64\n",
      "age          3000 non-null int64\n",
      "education    3000 non-null object\n",
      "wage         3000 non-null float64\n",
      "dtypes: float64(1), int64(3), object(1)\n",
      "memory usage: 140.6+ KB\n"
     ]
    }
   ],
   "source": [
    "# data overview (with meta data)\n",
    "df.info()"
   ]
  },
  {
   "cell_type": "code",
   "execution_count": 12,
   "metadata": {
    "scrolled": true
   },
   "outputs": [
    {
     "data": {
      "text/html": [
       "<div>\n",
       "<style scoped>\n",
       "    .dataframe tbody tr th:only-of-type {\n",
       "        vertical-align: middle;\n",
       "    }\n",
       "\n",
       "    .dataframe tbody tr th {\n",
       "        vertical-align: top;\n",
       "    }\n",
       "\n",
       "    .dataframe thead th {\n",
       "        text-align: right;\n",
       "    }\n",
       "</style>\n",
       "<table border=\"1\" class=\"dataframe\">\n",
       "  <thead>\n",
       "    <tr style=\"text-align: right;\">\n",
       "      <th></th>\n",
       "      <th>id</th>\n",
       "      <th>year</th>\n",
       "      <th>age</th>\n",
       "      <th>education</th>\n",
       "      <th>wage</th>\n",
       "    </tr>\n",
       "  </thead>\n",
       "  <tbody>\n",
       "    <tr>\n",
       "      <th>0</th>\n",
       "      <td>231655</td>\n",
       "      <td>2006</td>\n",
       "      <td>18</td>\n",
       "      <td>1. &lt; HS Grad</td>\n",
       "      <td>75.043154</td>\n",
       "    </tr>\n",
       "    <tr>\n",
       "      <th>1</th>\n",
       "      <td>86582</td>\n",
       "      <td>2004</td>\n",
       "      <td>24</td>\n",
       "      <td>4. College Grad</td>\n",
       "      <td>70.476020</td>\n",
       "    </tr>\n",
       "    <tr>\n",
       "      <th>2</th>\n",
       "      <td>161300</td>\n",
       "      <td>2003</td>\n",
       "      <td>45</td>\n",
       "      <td>3. Some College</td>\n",
       "      <td>130.982177</td>\n",
       "    </tr>\n",
       "    <tr>\n",
       "      <th>3</th>\n",
       "      <td>155159</td>\n",
       "      <td>2003</td>\n",
       "      <td>43</td>\n",
       "      <td>4. College Grad</td>\n",
       "      <td>154.685293</td>\n",
       "    </tr>\n",
       "    <tr>\n",
       "      <th>4</th>\n",
       "      <td>11443</td>\n",
       "      <td>2005</td>\n",
       "      <td>50</td>\n",
       "      <td>2. HS Grad</td>\n",
       "      <td>75.043154</td>\n",
       "    </tr>\n",
       "    <tr>\n",
       "      <th>5</th>\n",
       "      <td>376662</td>\n",
       "      <td>2008</td>\n",
       "      <td>54</td>\n",
       "      <td>4. College Grad</td>\n",
       "      <td>127.115744</td>\n",
       "    </tr>\n",
       "    <tr>\n",
       "      <th>6</th>\n",
       "      <td>450601</td>\n",
       "      <td>2009</td>\n",
       "      <td>44</td>\n",
       "      <td>3. Some College</td>\n",
       "      <td>169.528538</td>\n",
       "    </tr>\n",
       "    <tr>\n",
       "      <th>7</th>\n",
       "      <td>377954</td>\n",
       "      <td>2008</td>\n",
       "      <td>30</td>\n",
       "      <td>3. Some College</td>\n",
       "      <td>111.720849</td>\n",
       "    </tr>\n",
       "    <tr>\n",
       "      <th>8</th>\n",
       "      <td>228963</td>\n",
       "      <td>2006</td>\n",
       "      <td>41</td>\n",
       "      <td>3. Some College</td>\n",
       "      <td>118.884359</td>\n",
       "    </tr>\n",
       "    <tr>\n",
       "      <th>9</th>\n",
       "      <td>81404</td>\n",
       "      <td>2004</td>\n",
       "      <td>52</td>\n",
       "      <td>2. HS Grad</td>\n",
       "      <td>128.680488</td>\n",
       "    </tr>\n",
       "    <tr>\n",
       "      <th>10</th>\n",
       "      <td>302778</td>\n",
       "      <td>2007</td>\n",
       "      <td>45</td>\n",
       "      <td>3. Some College</td>\n",
       "      <td>117.146817</td>\n",
       "    </tr>\n",
       "    <tr>\n",
       "      <th>11</th>\n",
       "      <td>305706</td>\n",
       "      <td>2007</td>\n",
       "      <td>34</td>\n",
       "      <td>2. HS Grad</td>\n",
       "      <td>81.283253</td>\n",
       "    </tr>\n",
       "    <tr>\n",
       "      <th>12</th>\n",
       "      <td>8690</td>\n",
       "      <td>2005</td>\n",
       "      <td>35</td>\n",
       "      <td>2. HS Grad</td>\n",
       "      <td>89.492480</td>\n",
       "    </tr>\n",
       "    <tr>\n",
       "      <th>13</th>\n",
       "      <td>153561</td>\n",
       "      <td>2003</td>\n",
       "      <td>39</td>\n",
       "      <td>4. College Grad</td>\n",
       "      <td>134.705375</td>\n",
       "    </tr>\n",
       "    <tr>\n",
       "      <th>14</th>\n",
       "      <td>449654</td>\n",
       "      <td>2009</td>\n",
       "      <td>54</td>\n",
       "      <td>2. HS Grad</td>\n",
       "      <td>134.705375</td>\n",
       "    </tr>\n",
       "    <tr>\n",
       "      <th>15</th>\n",
       "      <td>447660</td>\n",
       "      <td>2009</td>\n",
       "      <td>51</td>\n",
       "      <td>3. Some College</td>\n",
       "      <td>90.481913</td>\n",
       "    </tr>\n",
       "    <tr>\n",
       "      <th>16</th>\n",
       "      <td>160191</td>\n",
       "      <td>2003</td>\n",
       "      <td>37</td>\n",
       "      <td>4. College Grad</td>\n",
       "      <td>82.679637</td>\n",
       "    </tr>\n",
       "    <tr>\n",
       "      <th>17</th>\n",
       "      <td>230312</td>\n",
       "      <td>2006</td>\n",
       "      <td>50</td>\n",
       "      <td>5. Advanced Degree</td>\n",
       "      <td>212.842352</td>\n",
       "    </tr>\n",
       "    <tr>\n",
       "      <th>18</th>\n",
       "      <td>301585</td>\n",
       "      <td>2007</td>\n",
       "      <td>56</td>\n",
       "      <td>4. College Grad</td>\n",
       "      <td>129.156693</td>\n",
       "    </tr>\n",
       "    <tr>\n",
       "      <th>19</th>\n",
       "      <td>153682</td>\n",
       "      <td>2003</td>\n",
       "      <td>37</td>\n",
       "      <td>3. Some College</td>\n",
       "      <td>98.599344</td>\n",
       "    </tr>\n",
       "  </tbody>\n",
       "</table>\n",
       "</div>"
      ],
      "text/plain": [
       "        id  year  age           education        wage\n",
       "0   231655  2006   18        1. < HS Grad   75.043154\n",
       "1    86582  2004   24     4. College Grad   70.476020\n",
       "2   161300  2003   45     3. Some College  130.982177\n",
       "3   155159  2003   43     4. College Grad  154.685293\n",
       "4    11443  2005   50          2. HS Grad   75.043154\n",
       "5   376662  2008   54     4. College Grad  127.115744\n",
       "6   450601  2009   44     3. Some College  169.528538\n",
       "7   377954  2008   30     3. Some College  111.720849\n",
       "8   228963  2006   41     3. Some College  118.884359\n",
       "9    81404  2004   52          2. HS Grad  128.680488\n",
       "10  302778  2007   45     3. Some College  117.146817\n",
       "11  305706  2007   34          2. HS Grad   81.283253\n",
       "12    8690  2005   35          2. HS Grad   89.492480\n",
       "13  153561  2003   39     4. College Grad  134.705375\n",
       "14  449654  2009   54          2. HS Grad  134.705375\n",
       "15  447660  2009   51     3. Some College   90.481913\n",
       "16  160191  2003   37     4. College Grad   82.679637\n",
       "17  230312  2006   50  5. Advanced Degree  212.842352\n",
       "18  301585  2007   56     4. College Grad  129.156693\n",
       "19  153682  2003   37     3. Some College   98.599344"
      ]
     },
     "execution_count": 12,
     "metadata": {},
     "output_type": "execute_result"
    }
   ],
   "source": [
    "# show the first 20 rows (i.e. head of the DataFrame)\n",
    "df.head(20)"
   ]
  },
  {
   "cell_type": "code",
   "execution_count": 13,
   "metadata": {},
   "outputs": [],
   "source": [
    "# rename variable \"education\" to \"edu\"\n",
    "df = df.rename(index=str, columns={\"education\": \"edu\"})"
   ]
  },
  {
   "cell_type": "code",
   "execution_count": 14,
   "metadata": {},
   "outputs": [
    {
     "data": {
      "text/plain": [
       "2. HS Grad            971\n",
       "4. College Grad       685\n",
       "3. Some College       650\n",
       "5. Advanced Degree    426\n",
       "1. < HS Grad          268\n",
       "Name: edu, dtype: int64"
      ]
     },
     "execution_count": 14,
     "metadata": {},
     "output_type": "execute_result"
    }
   ],
   "source": [
    "# check levels and frequency of edu\n",
    "df['edu'].value_counts() "
   ]
  },
  {
   "cell_type": "markdown",
   "metadata": {},
   "source": [
    "Convert to ordinal variable with pandas [CategoricalDtype](https://pandas.pydata.org/pandas-docs/stable/categorical.html)"
   ]
  },
  {
   "cell_type": "code",
   "execution_count": 15,
   "metadata": {},
   "outputs": [],
   "source": [
    "# convert to ordinal variable (see https://pandas.pydata.org/pandas-docs/stable/categorical.html)\n",
    "cat_edu = CategoricalDtype(categories=['1. < HS Grad', \n",
    "                             '2. HS Grad', \n",
    "                             '3. Some College', \n",
    "                             '4. College Grad', \n",
    "                             '5. Advanced Degree'],\n",
    "                            ordered=True)\n",
    "\n",
    "df.edu = df.edu.astype(cat_edu)"
   ]
  },
  {
   "cell_type": "code",
   "execution_count": 16,
   "metadata": {},
   "outputs": [],
   "source": [
    "# convert to categorical variable \n",
    "df['id'] = pd.Categorical(df['id'])\n",
    "df['year'] = pd.Categorical(df['year'])"
   ]
  },
  {
   "cell_type": "code",
   "execution_count": 17,
   "metadata": {},
   "outputs": [
    {
     "name": "stdout",
     "output_type": "stream",
     "text": [
      "<class 'pandas.core.frame.DataFrame'>\n",
      "Index: 3000 entries, 0 to 2999\n",
      "Data columns (total 5 columns):\n",
      "id      3000 non-null category\n",
      "year    3000 non-null category\n",
      "age     3000 non-null int64\n",
      "edu     3000 non-null category\n",
      "wage    3000 non-null float64\n",
      "dtypes: category(3), float64(1), int64(1)\n",
      "memory usage: 186.0+ KB\n"
     ]
    }
   ],
   "source": [
    "# data overview (with meta data)\n",
    "df.info()"
   ]
  },
  {
   "cell_type": "markdown",
   "metadata": {},
   "source": [
    "**Notes on data types:** \n",
    "\n",
    "If we need to transform variables into a **numerical format**, we can transfrom the data with pd.to_numeric [see Pandas documenation](https://pandas.pydata.org/pandas-docs/stable/generated/pandas.to_numeric.html):\n",
    "\n",
    "If the data contains strings, we need to replace them with NaN (not a number). Otherwise we get an error message. Therefore, use errors='coerce' ... \n",
    "\n",
    "  * pandas.to_numeric(arg, errors='coerce', downcast=None)\n",
    "\n",
    "  * errors : {‘ignore’, ‘raise’, ‘coerce’}, default ‘raise’\n",
    "  * If ‘raise’, then invalid parsing will raise an exception\n",
    "  * If ‘coerce’, then invalid parsing will be set as NaN\n",
    "  * If ‘ignore’, then invalid parsing will return the input\n",
    "  \n",
    "To change data into categorical format, you can use the following codes:\n",
    "\n",
    "df['variable'] = pd.Categorical(df['variable'])"
   ]
  },
  {
   "cell_type": "markdown",
   "metadata": {},
   "source": [
    "### Handle missing values"
   ]
  },
  {
   "cell_type": "markdown",
   "metadata": {},
   "source": [
    "Next, we need to check wether there are missing cases in the data set. By “missing” we simply mean NA (“not available”). Many data sets arrive with missing data, either because it exists and was not collected or it never existed. Having missing values in a dataset can cause errors with some algorithms. Therefore, we need to take care of this issue (we cover the topic of missing values in one of the following applications in detail)."
   ]
  },
  {
   "cell_type": "code",
   "execution_count": 18,
   "metadata": {},
   "outputs": [
    {
     "data": {
      "text/plain": [
       "<matplotlib.axes._subplots.AxesSubplot at 0x1a21daa8d0>"
      ]
     },
     "execution_count": 18,
     "metadata": {},
     "output_type": "execute_result"
    },
    {
     "data": {
      "image/png": "[encoded data removed]",
      "text/plain": [
       "<Figure size 432x288 with 1 Axes>"
      ]
     },
     "metadata": {
      "needs_background": "light"
     },
     "output_type": "display_data"
    }
   ],
   "source": [
    "# show missing values (missing values - if present - will be displayed in yellow )\n",
    "sns.heatmap(df.isnull(),yticklabels=False,cbar=False,cmap='viridis')"
   ]
  },
  {
   "cell_type": "markdown",
   "metadata": {},
   "source": [
    "We can also check the column-wise distribution of null values:"
   ]
  },
  {
   "cell_type": "code",
   "execution_count": 19,
   "metadata": {},
   "outputs": [
    {
     "name": "stdout",
     "output_type": "stream",
     "text": [
      "id      0\n",
      "year    0\n",
      "age     0\n",
      "edu     0\n",
      "wage    0\n",
      "dtype: int64\n"
     ]
    }
   ],
   "source": [
    "print(df.isnull().sum())"
   ]
  },
  {
   "cell_type": "markdown",
   "metadata": {},
   "source": [
    "In this data set, there are no missing values present (which is rather unusual). \n",
    "\n",
    "If we observe **missing values** in the df, we can drop them all togehter with this code:\n",
    "\n",
    "df = df.dropna()\n",
    "\n",
    "However, be careful not to drop many observations if just one varibale is the cause for the missing values. In that case, it could be reasonable to only drop the variable: \n",
    "\n",
    "df = df.drop('variable', axis=1)"
   ]
  },
  {
   "cell_type": "markdown",
   "metadata": {},
   "source": [
    "## Transform data"
   ]
  },
  {
   "cell_type": "markdown",
   "metadata": {},
   "source": [
    "### Descriptive statistics"
   ]
  },
  {
   "cell_type": "markdown",
   "metadata": {},
   "source": [
    "#### Measures of central tendency"
   ]
  },
  {
   "cell_type": "markdown",
   "metadata": {},
   "source": [
    "First of all we obtain some common statistics per variable."
   ]
  },
  {
   "cell_type": "code",
   "execution_count": 20,
   "metadata": {},
   "outputs": [
    {
     "data": {
      "text/plain": [
       "0    40\n",
       "dtype: int64"
      ]
     },
     "execution_count": 20,
     "metadata": {},
     "output_type": "execute_result"
    }
   ],
   "source": [
    "# mode\n",
    "df['age'].mode()"
   ]
  },
  {
   "cell_type": "code",
   "execution_count": 21,
   "metadata": {},
   "outputs": [
    {
     "name": "stdout",
     "output_type": "stream",
     "text": [
      "42.41466666666667\n"
     ]
    }
   ],
   "source": [
    "# calculation of the mean (e.g. for age)\n",
    "age_mean = df[\"age\"].mean()\n",
    "print(age_mean)"
   ]
  },
  {
   "cell_type": "code",
   "execution_count": 22,
   "metadata": {},
   "outputs": [
    {
     "name": "stdout",
     "output_type": "stream",
     "text": [
      "The precise mean of age is 42.41466666666667\n",
      "The rounded mean of age is 42\n",
      "The rounded mean of age with two decimals is 42.41\n",
      "The median of age is 42.0\n"
     ]
    }
   ],
   "source": [
    "# calculation of the mean (e.g. for age)\n",
    "age_mean = df[\"age\"].mean()\n",
    "\n",
    "# calculation of the median (e.g. for age)\n",
    "age_median =  df[\"age\"].median()\n",
    "\n",
    "# print the result (e.g., age_mean)\n",
    "print(f'The precise mean of age is {age_mean}')\n",
    "\n",
    "# print the rounded result\n",
    "print(f'The rounded mean of age is {round(age_mean)}')\n",
    "\n",
    "# print the round result (to two decimals) (this is the preferred option)\n",
    "print(f'The rounded mean of age with two decimals is {round(age_mean, 2)}')\n",
    "\n",
    "# use a function inside print()\n",
    "print(f'The median of age is {df[\"age\"].median()}')"
   ]
  },
  {
   "cell_type": "markdown",
   "metadata": {},
   "source": [
    "#### Measures of dispersion "
   ]
  },
  {
   "cell_type": "code",
   "execution_count": 23,
   "metadata": {},
   "outputs": [
    {
     "data": {
      "text/plain": [
       "0.25    33.75\n",
       "0.50    42.00\n",
       "0.75    51.00\n",
       "Name: age, dtype: float64"
      ]
     },
     "execution_count": 23,
     "metadata": {},
     "output_type": "execute_result"
    }
   ],
   "source": [
    "# quantiles\n",
    "df['age'].quantile([.25, .5, .75])"
   ]
  },
  {
   "cell_type": "code",
   "execution_count": 24,
   "metadata": {},
   "outputs": [
    {
     "data": {
      "text/plain": [
       "62"
      ]
     },
     "execution_count": 24,
     "metadata": {},
     "output_type": "execute_result"
    }
   ],
   "source": [
    "# Range\n",
    "df['age'].max() - df['age'].min()"
   ]
  },
  {
   "cell_type": "code",
   "execution_count": 25,
   "metadata": {},
   "outputs": [
    {
     "data": {
      "text/plain": [
       "11.54"
      ]
     },
     "execution_count": 25,
     "metadata": {},
     "output_type": "execute_result"
    }
   ],
   "source": [
    "# standard deviation\n",
    "round(df['age'].std(),2)"
   ]
  },
  {
   "cell_type": "markdown",
   "metadata": {},
   "source": [
    "#### Summary statistics"
   ]
  },
  {
   "cell_type": "code",
   "execution_count": 26,
   "metadata": {},
   "outputs": [
    {
     "data": {
      "text/html": [
       "<div>\n",
       "<style scoped>\n",
       "    .dataframe tbody tr th:only-of-type {\n",
       "        vertical-align: middle;\n",
       "    }\n",
       "\n",
       "    .dataframe tbody tr th {\n",
       "        vertical-align: top;\n",
       "    }\n",
       "\n",
       "    .dataframe thead th {\n",
       "        text-align: right;\n",
       "    }\n",
       "</style>\n",
       "<table border=\"1\" class=\"dataframe\">\n",
       "  <thead>\n",
       "    <tr style=\"text-align: right;\">\n",
       "      <th></th>\n",
       "      <th>age</th>\n",
       "      <th>wage</th>\n",
       "    </tr>\n",
       "  </thead>\n",
       "  <tbody>\n",
       "    <tr>\n",
       "      <th>count</th>\n",
       "      <td>3000.00</td>\n",
       "      <td>3000.00</td>\n",
       "    </tr>\n",
       "    <tr>\n",
       "      <th>mean</th>\n",
       "      <td>42.41</td>\n",
       "      <td>111.70</td>\n",
       "    </tr>\n",
       "    <tr>\n",
       "      <th>std</th>\n",
       "      <td>11.54</td>\n",
       "      <td>41.73</td>\n",
       "    </tr>\n",
       "    <tr>\n",
       "      <th>min</th>\n",
       "      <td>18.00</td>\n",
       "      <td>20.09</td>\n",
       "    </tr>\n",
       "    <tr>\n",
       "      <th>25%</th>\n",
       "      <td>33.75</td>\n",
       "      <td>85.38</td>\n",
       "    </tr>\n",
       "    <tr>\n",
       "      <th>50%</th>\n",
       "      <td>42.00</td>\n",
       "      <td>104.92</td>\n",
       "    </tr>\n",
       "    <tr>\n",
       "      <th>75%</th>\n",
       "      <td>51.00</td>\n",
       "      <td>128.68</td>\n",
       "    </tr>\n",
       "    <tr>\n",
       "      <th>max</th>\n",
       "      <td>80.00</td>\n",
       "      <td>318.34</td>\n",
       "    </tr>\n",
       "  </tbody>\n",
       "</table>\n",
       "</div>"
      ],
      "text/plain": [
       "           age     wage\n",
       "count  3000.00  3000.00\n",
       "mean     42.41   111.70\n",
       "std      11.54    41.73\n",
       "min      18.00    20.09\n",
       "25%      33.75    85.38\n",
       "50%      42.00   104.92\n",
       "75%      51.00   128.68\n",
       "max      80.00   318.34"
      ]
     },
     "execution_count": 26,
     "metadata": {},
     "output_type": "execute_result"
    }
   ],
   "source": [
    "# summary statistics for all numerical columns\n",
    "round(df.describe(),2)"
   ]
  },
  {
   "cell_type": "code",
   "execution_count": 27,
   "metadata": {},
   "outputs": [
    {
     "data": {
      "text/html": [
       "<div>\n",
       "<style scoped>\n",
       "    .dataframe tbody tr th:only-of-type {\n",
       "        vertical-align: middle;\n",
       "    }\n",
       "\n",
       "    .dataframe tbody tr th {\n",
       "        vertical-align: top;\n",
       "    }\n",
       "\n",
       "    .dataframe thead th {\n",
       "        text-align: right;\n",
       "    }\n",
       "</style>\n",
       "<table border=\"1\" class=\"dataframe\">\n",
       "  <thead>\n",
       "    <tr style=\"text-align: right;\">\n",
       "      <th></th>\n",
       "      <th>id</th>\n",
       "      <th>year</th>\n",
       "      <th>edu</th>\n",
       "    </tr>\n",
       "  </thead>\n",
       "  <tbody>\n",
       "    <tr>\n",
       "      <th>count</th>\n",
       "      <td>3000</td>\n",
       "      <td>3000</td>\n",
       "      <td>3000</td>\n",
       "    </tr>\n",
       "    <tr>\n",
       "      <th>unique</th>\n",
       "      <td>3000</td>\n",
       "      <td>7</td>\n",
       "      <td>5</td>\n",
       "    </tr>\n",
       "    <tr>\n",
       "      <th>top</th>\n",
       "      <td>453870</td>\n",
       "      <td>2003</td>\n",
       "      <td>2. HS Grad</td>\n",
       "    </tr>\n",
       "    <tr>\n",
       "      <th>freq</th>\n",
       "      <td>1</td>\n",
       "      <td>513</td>\n",
       "      <td>971</td>\n",
       "    </tr>\n",
       "  </tbody>\n",
       "</table>\n",
       "</div>"
      ],
      "text/plain": [
       "            id  year         edu\n",
       "count     3000  3000        3000\n",
       "unique    3000     7           5\n",
       "top     453870  2003  2. HS Grad\n",
       "freq         1   513         971"
      ]
     },
     "execution_count": 27,
     "metadata": {},
     "output_type": "execute_result"
    }
   ],
   "source": [
    "# summary statistics for all categorical columns\n",
    "df.describe(include=['category'])"
   ]
  },
  {
   "cell_type": "markdown",
   "metadata": {},
   "source": [
    "Compare summary statistics for specific groups in the data:"
   ]
  },
  {
   "cell_type": "code",
   "execution_count": 28,
   "metadata": {},
   "outputs": [
    {
     "data": {
      "text/html": [
       "<div>\n",
       "<style scoped>\n",
       "    .dataframe tbody tr th:only-of-type {\n",
       "        vertical-align: middle;\n",
       "    }\n",
       "\n",
       "    .dataframe tbody tr th {\n",
       "        vertical-align: top;\n",
       "    }\n",
       "\n",
       "    .dataframe thead th {\n",
       "        text-align: right;\n",
       "    }\n",
       "</style>\n",
       "<table border=\"1\" class=\"dataframe\">\n",
       "  <thead>\n",
       "    <tr style=\"text-align: right;\">\n",
       "      <th></th>\n",
       "      <th>count</th>\n",
       "      <th>mean</th>\n",
       "      <th>std</th>\n",
       "      <th>min</th>\n",
       "      <th>25%</th>\n",
       "      <th>50%</th>\n",
       "      <th>75%</th>\n",
       "      <th>max</th>\n",
       "    </tr>\n",
       "    <tr>\n",
       "      <th>edu</th>\n",
       "      <th></th>\n",
       "      <th></th>\n",
       "      <th></th>\n",
       "      <th></th>\n",
       "      <th></th>\n",
       "      <th></th>\n",
       "      <th></th>\n",
       "      <th></th>\n",
       "    </tr>\n",
       "  </thead>\n",
       "  <tbody>\n",
       "    <tr>\n",
       "      <th>1. &lt; HS Grad</th>\n",
       "      <td>268.0</td>\n",
       "      <td>41.794776</td>\n",
       "      <td>12.611111</td>\n",
       "      <td>18.0</td>\n",
       "      <td>33.0</td>\n",
       "      <td>41.5</td>\n",
       "      <td>50.25</td>\n",
       "      <td>75.0</td>\n",
       "    </tr>\n",
       "    <tr>\n",
       "      <th>2. HS Grad</th>\n",
       "      <td>971.0</td>\n",
       "      <td>42.217302</td>\n",
       "      <td>12.023480</td>\n",
       "      <td>18.0</td>\n",
       "      <td>33.0</td>\n",
       "      <td>42.0</td>\n",
       "      <td>50.00</td>\n",
       "      <td>80.0</td>\n",
       "    </tr>\n",
       "    <tr>\n",
       "      <th>3. Some College</th>\n",
       "      <td>650.0</td>\n",
       "      <td>40.887692</td>\n",
       "      <td>11.523327</td>\n",
       "      <td>18.0</td>\n",
       "      <td>32.0</td>\n",
       "      <td>40.0</td>\n",
       "      <td>49.00</td>\n",
       "      <td>80.0</td>\n",
       "    </tr>\n",
       "    <tr>\n",
       "      <th>4. College Grad</th>\n",
       "      <td>685.0</td>\n",
       "      <td>42.773723</td>\n",
       "      <td>10.902406</td>\n",
       "      <td>22.0</td>\n",
       "      <td>34.0</td>\n",
       "      <td>43.0</td>\n",
       "      <td>51.00</td>\n",
       "      <td>76.0</td>\n",
       "    </tr>\n",
       "    <tr>\n",
       "      <th>5. Advanced Degree</th>\n",
       "      <td>426.0</td>\n",
       "      <td>45.007042</td>\n",
       "      <td>10.263468</td>\n",
       "      <td>25.0</td>\n",
       "      <td>38.0</td>\n",
       "      <td>44.0</td>\n",
       "      <td>53.00</td>\n",
       "      <td>76.0</td>\n",
       "    </tr>\n",
       "  </tbody>\n",
       "</table>\n",
       "</div>"
      ],
      "text/plain": [
       "                    count       mean        std   min   25%   50%    75%   max\n",
       "edu                                                                           \n",
       "1. < HS Grad        268.0  41.794776  12.611111  18.0  33.0  41.5  50.25  75.0\n",
       "2. HS Grad          971.0  42.217302  12.023480  18.0  33.0  42.0  50.00  80.0\n",
       "3. Some College     650.0  40.887692  11.523327  18.0  32.0  40.0  49.00  80.0\n",
       "4. College Grad     685.0  42.773723  10.902406  22.0  34.0  43.0  51.00  76.0\n",
       "5. Advanced Degree  426.0  45.007042  10.263468  25.0  38.0  44.0  53.00  76.0"
      ]
     },
     "execution_count": 28,
     "metadata": {},
     "output_type": "execute_result"
    }
   ],
   "source": [
    "# summary statistics by groups\n",
    "df['age'].groupby(df['edu']).describe()"
   ]
  },
  {
   "cell_type": "markdown",
   "metadata": {},
   "source": [
    "## Visualize data"
   ]
  },
  {
   "cell_type": "markdown",
   "metadata": {},
   "source": [
    "### Distibution of Variables"
   ]
  },
  {
   "cell_type": "markdown",
   "metadata": {},
   "source": [
    "How you visualize the distribution of a variable will depend on whether the variable is categorical or continuous. A variable is categorical if it can only take one of a small set of values. To examine the distribution of a categorical variable, use a bar or count plot. A count plot can be thought of as a histogram across a categorical, instead of quantitative, variable: "
   ]
  },
  {
   "cell_type": "code",
   "execution_count": 29,
   "metadata": {},
   "outputs": [
    {
     "data": {
      "image/png": "[encoded data removed]",
      "text/plain": [
       "<Figure size 432x288 with 1 Axes>"
      ]
     },
     "metadata": {
      "needs_background": "light"
     },
     "output_type": "display_data"
    }
   ],
   "source": [
    "# count plot (show the counts of observations in each categorical bin)\n",
    "# plt.figure(figsize=(10, 4))\n",
    "sns.countplot(x='edu', data=df, palette='pastel');\n",
    "plt.xticks(rotation=45, ha=\"right\");"
   ]
  },
  {
   "cell_type": "markdown",
   "metadata": {},
   "source": [
    "A variable is **continuous** if it can take any of an infinite set of ordered values. Numbers and date-times are two examples of continuous variables. \n",
    "\n",
    "To examine the distribution of a continuous variable, use a **histogram** (a histogram divides the x-axis into equally spaced bins and then uses the height of a bar to display the number of observations that fall in each bin). "
   ]
  },
  {
   "cell_type": "code",
   "execution_count": 30,
   "metadata": {},
   "outputs": [
    {
     "data": {
      "image/png": "[encoded data removed]",
      "text/plain": [
       "<Figure size 432x288 with 2 Axes>"
      ]
     },
     "metadata": {
      "needs_background": "light"
     },
     "output_type": "display_data"
    }
   ],
   "source": [
    "# Histogram of all numerical values\n",
    "df.hist();"
   ]
  },
  {
   "cell_type": "markdown",
   "metadata": {},
   "source": [
    "Matplotlib histogram of age for different edu-levels  (https://matplotlib.org/api/_as_gen/matplotlib.pyplot.hist.html)\n"
   ]
  },
  {
   "cell_type": "code",
   "execution_count": 31,
   "metadata": {},
   "outputs": [
    {
     "data": {
      "image/png": "[encoded data removed]",
      "text/plain": [
       "<Figure size 432x288 with 1 Axes>"
      ]
     },
     "metadata": {
      "needs_background": "light"
     },
     "output_type": "display_data"
    }
   ],
   "source": [
    "# Matplotlib histogram for one variable\n",
    "df.age.hist();"
   ]
  },
  {
   "cell_type": "code",
   "execution_count": 32,
   "metadata": {},
   "outputs": [
    {
     "data": {
      "image/png": "[encoded data removed]",
      "text/plain": [
       "<Figure size 432x288 with 1 Axes>"
      ]
     },
     "metadata": {
      "needs_background": "light"
     },
     "output_type": "display_data"
    }
   ],
   "source": [
    "# Matplotlib histogram with groups\n",
    "df.groupby('edu').age.hist(alpha=0.4);"
   ]
  },
  {
   "cell_type": "markdown",
   "metadata": {},
   "source": [
    "Seaborne shows a default plot with a kernel density estimate and histogram with bin size determined automatically with a reference rule:"
   ]
  },
  {
   "cell_type": "code",
   "execution_count": 33,
   "metadata": {
    "scrolled": true
   },
   "outputs": [
    {
     "data": {
      "text/plain": [
       "<matplotlib.axes._subplots.AxesSubplot at 0x1a2350fb70>"
      ]
     },
     "execution_count": 33,
     "metadata": {},
     "output_type": "execute_result"
    },
    {
     "data": {
      "image/png": "[encoded data removed]",
      "text/plain": [
       "<Figure size 432x288 with 1 Axes>"
      ]
     },
     "metadata": {
      "needs_background": "light"
     },
     "output_type": "display_data"
    }
   ],
   "source": [
    "# histogram with seaborn \n",
    "#plt.figure(figsize=(10, 4))\n",
    "sns.distplot(df.age)"
   ]
  },
  {
   "cell_type": "markdown",
   "metadata": {},
   "source": [
    "Another alternative to display the distribution of a continuous variable broken down by a categorical variable is the **boxplot**. A boxplot is a type of visual shorthand for a distribution of values that is popular among statisticians. Each boxplot consists of:\n",
    "\n",
    "A box that stretches from the 25th percentile of the distribution to the 75th percentile, a distance known as the interquartile range (IQR). In the middle of the box is a line that displays the median, i.e. 50th percentile, of the distribution. These three lines give you a sense of the spread of the distribution and whether or not the distribution is symmetric about the median or skewed to one side.\n",
    "\n",
    "Visual points that display observations that fall more than 1.5 times the IQR from either edge of the box. These outlying points are unusual so are plotted individually.\n",
    "\n",
    "A line (or whisker) that extends from each end of the box and goes to the\n",
    "farthest non-outlier point in the distribution."
   ]
  },
  {
   "cell_type": "code",
   "execution_count": 34,
   "metadata": {},
   "outputs": [
    {
     "data": {
      "text/plain": [
       "<matplotlib.axes._subplots.AxesSubplot at 0x1a2382fc18>"
      ]
     },
     "execution_count": 34,
     "metadata": {},
     "output_type": "execute_result"
    },
    {
     "data": {
      "image/png": "[encoded data removed]",
      "text/plain": [
       "<Figure size 432x288 with 1 Axes>"
      ]
     },
     "metadata": {
      "needs_background": "light"
     },
     "output_type": "display_data"
    }
   ],
   "source": [
    "# Matplotlib boxplot\n",
    "df.boxplot()"
   ]
  },
  {
   "cell_type": "code",
   "execution_count": 35,
   "metadata": {},
   "outputs": [
    {
     "data": {
      "text/plain": [
       "<matplotlib.axes._subplots.AxesSubplot at 0x1a238fe898>"
      ]
     },
     "execution_count": 35,
     "metadata": {},
     "output_type": "execute_result"
    },
    {
     "data": {
      "image/png": "[encoded data removed]",
      "text/plain": [
       "<Figure size 432x288 with 1 Axes>"
      ]
     },
     "metadata": {
      "needs_background": "light"
     },
     "output_type": "display_data"
    }
   ],
   "source": [
    "# boxplot \n",
    "sns.boxplot(y='age',data=df,palette='winter')"
   ]
  },
  {
   "cell_type": "code",
   "execution_count": 36,
   "metadata": {},
   "outputs": [
    {
     "data": {
      "text/plain": [
       "(array([0, 1, 2, 3, 4]), <a list of 5 Text xticklabel objects>)"
      ]
     },
     "execution_count": 36,
     "metadata": {},
     "output_type": "execute_result"
    },
    {
     "data": {
      "image/png": "[encoded data removed]",
      "text/plain": [
       "<Figure size 432x288 with 1 Axes>"
      ]
     },
     "metadata": {
      "needs_background": "light"
     },
     "output_type": "display_data"
    }
   ],
   "source": [
    "# boxplot for different groups\n",
    "sns.boxplot(x='edu',y='age',data=df,palette='winter')\n",
    "plt.xticks(rotation=45, ha=\"right\")"
   ]
  },
  {
   "cell_type": "markdown",
   "metadata": {},
   "source": [
    "We see much less information about the distribution, but the boxplots are much more compact so we can more easily compare them (and fit more on one plot)."
   ]
  },
  {
   "cell_type": "markdown",
   "metadata": {},
   "source": [
    "### Relationship between variables"
   ]
  },
  {
   "cell_type": "markdown",
   "metadata": {},
   "source": [
    "A great way to visualise the covariation between two continuous variables is to draw scatterplot. You can see covariation as a pattern in the points. We will cover more options to test for relationships in variables (e.g., correlation) in the following applications. "
   ]
  },
  {
   "cell_type": "code",
   "execution_count": 42,
   "metadata": {},
   "outputs": [
    {
     "data": {
      "image/png": "[encoded data removed]",
      "text/plain": [
       "<Figure size 360x360 with 1 Axes>"
      ]
     },
     "metadata": {
      "needs_background": "light"
     },
     "output_type": "display_data"
    }
   ],
   "source": [
    "sns.lmplot('age', 'wage', data=df, fit_reg=False);"
   ]
  },
  {
   "cell_type": "code",
   "execution_count": 40,
   "metadata": {},
   "outputs": [
    {
     "data": {
      "image/png": "[encoded data removed]",
      "text/plain": [
       "<Figure size 720x720 with 20 Axes>"
      ]
     },
     "metadata": {
      "needs_background": "light"
     },
     "output_type": "display_data"
    }
   ],
   "source": [
    "sns.pairplot(df);"
   ]
  },
  {
   "cell_type": "markdown",
   "metadata": {},
   "source": [
    "## Model"
   ]
  },
  {
   "cell_type": "markdown",
   "metadata": {},
   "source": [
    "We cover the modelling process in other applications."
   ]
  }
 ],
 "metadata": {
  "kernelspec": {
   "display_name": "Python 3",
   "language": "python",
   "name": "python3"
  },
  "language_info": {
   "codemirror_mode": {
    "name": "ipython",
    "version": 3
   },
   "file_extension": ".py",
   "mimetype": "text/x-python",
   "name": "python",
   "nbconvert_exporter": "python",
   "pygments_lexer": "ipython3",
   "version": "3.6.8"
  },
  "toc": {
   "base_numbering": 1,
   "nav_menu": {},
   "number_sections": true,
   "sideBar": true,
   "skip_h1_title": true,
   "title_cell": "Table of Contents",
   "title_sidebar": "Contents",
   "toc_cell": true,
   "toc_position": {},
   "toc_section_display": true,
   "toc_window_display": false
  },
  "varInspector": {
   "cols": {
    "lenName": 16,
    "lenType": 16,
    "lenVar": 40
   },
   "kernels_config": {
    "python": {
     "delete_cmd_postfix": "",
     "delete_cmd_prefix": "del ",
     "library": "var_list.py",
     "varRefreshCmd": "print(var_dic_list())"
    },
    "r": {
     "delete_cmd_postfix": ") ",
     "delete_cmd_prefix": "rm(",
     "library": "var_list.r",
     "varRefreshCmd": "cat(var_dic_list()) "
    }
   },
   "types_to_exclude": [
    "module",
    "function",
    "builtin_function_or_method",
    "instance",
    "_Feature"
   ],
   "window_display": false
  }
 },
 "nbformat": 4,
 "nbformat_minor": 2
}
